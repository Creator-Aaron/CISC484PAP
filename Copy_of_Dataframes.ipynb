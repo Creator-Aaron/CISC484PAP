{
  "nbformat": 4,
  "nbformat_minor": 0,
  "metadata": {
    "colab": {
      "provenance": [],
      "gpuType": "T4",
      "include_colab_link": true
    },
    "kernelspec": {
      "name": "python3",
      "display_name": "Python 3"
    },
    "language_info": {
      "name": "python"
    },
    "accelerator": "GPU"
  },
  "cells": [
    {
      "cell_type": "markdown",
      "metadata": {
        "id": "view-in-github",
        "colab_type": "text"
      },
      "source": [
        "<a href=\"https://colab.research.google.com/github/Creator-Aaron/CISC484PAP/blob/main/Copy_of_Dataframes.ipynb\" target=\"_parent\"><img src=\"https://colab.research.google.com/assets/colab-badge.svg\" alt=\"Open In Colab\"/></a>"
      ]
    },
    {
      "cell_type": "markdown",
      "source": [
        "# Set up the og_df"
      ],
      "metadata": {
        "id": "5aN25xhKY51b"
      }
    },
    {
      "cell_type": "code",
      "source": [
        "from google.colab import files\n",
        "\n",
        "# Upload the Kaggle API credentials file\n",
        "uploaded = files.upload()"
      ],
      "metadata": {
        "colab": {
          "base_uri": "https://localhost:8080/",
          "height": 73
        },
        "id": "eQtXU6IWtjOX",
        "outputId": "715fe384-e861-4889-8b8f-0d304d4c9165"
      },
      "execution_count": null,
      "outputs": [
        {
          "output_type": "display_data",
          "data": {
            "text/plain": [
              "<IPython.core.display.HTML object>"
            ],
            "text/html": [
              "\n",
              "     <input type=\"file\" id=\"files-a68fae9b-d14c-4c44-bf7e-9a29f1858064\" name=\"files[]\" multiple disabled\n",
              "        style=\"border:none\" />\n",
              "     <output id=\"result-a68fae9b-d14c-4c44-bf7e-9a29f1858064\">\n",
              "      Upload widget is only available when the cell has been executed in the\n",
              "      current browser session. Please rerun this cell to enable.\n",
              "      </output>\n",
              "      <script>// Copyright 2017 Google LLC\n",
              "//\n",
              "// Licensed under the Apache License, Version 2.0 (the \"License\");\n",
              "// you may not use this file except in compliance with the License.\n",
              "// You may obtain a copy of the License at\n",
              "//\n",
              "//      http://www.apache.org/licenses/LICENSE-2.0\n",
              "//\n",
              "// Unless required by applicable law or agreed to in writing, software\n",
              "// distributed under the License is distributed on an \"AS IS\" BASIS,\n",
              "// WITHOUT WARRANTIES OR CONDITIONS OF ANY KIND, either express or implied.\n",
              "// See the License for the specific language governing permissions and\n",
              "// limitations under the License.\n",
              "\n",
              "/**\n",
              " * @fileoverview Helpers for google.colab Python module.\n",
              " */\n",
              "(function(scope) {\n",
              "function span(text, styleAttributes = {}) {\n",
              "  const element = document.createElement('span');\n",
              "  element.textContent = text;\n",
              "  for (const key of Object.keys(styleAttributes)) {\n",
              "    element.style[key] = styleAttributes[key];\n",
              "  }\n",
              "  return element;\n",
              "}\n",
              "\n",
              "// Max number of bytes which will be uploaded at a time.\n",
              "const MAX_PAYLOAD_SIZE = 100 * 1024;\n",
              "\n",
              "function _uploadFiles(inputId, outputId) {\n",
              "  const steps = uploadFilesStep(inputId, outputId);\n",
              "  const outputElement = document.getElementById(outputId);\n",
              "  // Cache steps on the outputElement to make it available for the next call\n",
              "  // to uploadFilesContinue from Python.\n",
              "  outputElement.steps = steps;\n",
              "\n",
              "  return _uploadFilesContinue(outputId);\n",
              "}\n",
              "\n",
              "// This is roughly an async generator (not supported in the browser yet),\n",
              "// where there are multiple asynchronous steps and the Python side is going\n",
              "// to poll for completion of each step.\n",
              "// This uses a Promise to block the python side on completion of each step,\n",
              "// then passes the result of the previous step as the input to the next step.\n",
              "function _uploadFilesContinue(outputId) {\n",
              "  const outputElement = document.getElementById(outputId);\n",
              "  const steps = outputElement.steps;\n",
              "\n",
              "  const next = steps.next(outputElement.lastPromiseValue);\n",
              "  return Promise.resolve(next.value.promise).then((value) => {\n",
              "    // Cache the last promise value to make it available to the next\n",
              "    // step of the generator.\n",
              "    outputElement.lastPromiseValue = value;\n",
              "    return next.value.response;\n",
              "  });\n",
              "}\n",
              "\n",
              "/**\n",
              " * Generator function which is called between each async step of the upload\n",
              " * process.\n",
              " * @param {string} inputId Element ID of the input file picker element.\n",
              " * @param {string} outputId Element ID of the output display.\n",
              " * @return {!Iterable<!Object>} Iterable of next steps.\n",
              " */\n",
              "function* uploadFilesStep(inputId, outputId) {\n",
              "  const inputElement = document.getElementById(inputId);\n",
              "  inputElement.disabled = false;\n",
              "\n",
              "  const outputElement = document.getElementById(outputId);\n",
              "  outputElement.innerHTML = '';\n",
              "\n",
              "  const pickedPromise = new Promise((resolve) => {\n",
              "    inputElement.addEventListener('change', (e) => {\n",
              "      resolve(e.target.files);\n",
              "    });\n",
              "  });\n",
              "\n",
              "  const cancel = document.createElement('button');\n",
              "  inputElement.parentElement.appendChild(cancel);\n",
              "  cancel.textContent = 'Cancel upload';\n",
              "  const cancelPromise = new Promise((resolve) => {\n",
              "    cancel.onclick = () => {\n",
              "      resolve(null);\n",
              "    };\n",
              "  });\n",
              "\n",
              "  // Wait for the user to pick the files.\n",
              "  const files = yield {\n",
              "    promise: Promise.race([pickedPromise, cancelPromise]),\n",
              "    response: {\n",
              "      action: 'starting',\n",
              "    }\n",
              "  };\n",
              "\n",
              "  cancel.remove();\n",
              "\n",
              "  // Disable the input element since further picks are not allowed.\n",
              "  inputElement.disabled = true;\n",
              "\n",
              "  if (!files) {\n",
              "    return {\n",
              "      response: {\n",
              "        action: 'complete',\n",
              "      }\n",
              "    };\n",
              "  }\n",
              "\n",
              "  for (const file of files) {\n",
              "    const li = document.createElement('li');\n",
              "    li.append(span(file.name, {fontWeight: 'bold'}));\n",
              "    li.append(span(\n",
              "        `(${file.type || 'n/a'}) - ${file.size} bytes, ` +\n",
              "        `last modified: ${\n",
              "            file.lastModifiedDate ? file.lastModifiedDate.toLocaleDateString() :\n",
              "                                    'n/a'} - `));\n",
              "    const percent = span('0% done');\n",
              "    li.appendChild(percent);\n",
              "\n",
              "    outputElement.appendChild(li);\n",
              "\n",
              "    const fileDataPromise = new Promise((resolve) => {\n",
              "      const reader = new FileReader();\n",
              "      reader.onload = (e) => {\n",
              "        resolve(e.target.result);\n",
              "      };\n",
              "      reader.readAsArrayBuffer(file);\n",
              "    });\n",
              "    // Wait for the data to be ready.\n",
              "    let fileData = yield {\n",
              "      promise: fileDataPromise,\n",
              "      response: {\n",
              "        action: 'continue',\n",
              "      }\n",
              "    };\n",
              "\n",
              "    // Use a chunked sending to avoid message size limits. See b/62115660.\n",
              "    let position = 0;\n",
              "    do {\n",
              "      const length = Math.min(fileData.byteLength - position, MAX_PAYLOAD_SIZE);\n",
              "      const chunk = new Uint8Array(fileData, position, length);\n",
              "      position += length;\n",
              "\n",
              "      const base64 = btoa(String.fromCharCode.apply(null, chunk));\n",
              "      yield {\n",
              "        response: {\n",
              "          action: 'append',\n",
              "          file: file.name,\n",
              "          data: base64,\n",
              "        },\n",
              "      };\n",
              "\n",
              "      let percentDone = fileData.byteLength === 0 ?\n",
              "          100 :\n",
              "          Math.round((position / fileData.byteLength) * 100);\n",
              "      percent.textContent = `${percentDone}% done`;\n",
              "\n",
              "    } while (position < fileData.byteLength);\n",
              "  }\n",
              "\n",
              "  // All done.\n",
              "  yield {\n",
              "    response: {\n",
              "      action: 'complete',\n",
              "    }\n",
              "  };\n",
              "}\n",
              "\n",
              "scope.google = scope.google || {};\n",
              "scope.google.colab = scope.google.colab || {};\n",
              "scope.google.colab._files = {\n",
              "  _uploadFiles,\n",
              "  _uploadFilesContinue,\n",
              "};\n",
              "})(self);\n",
              "</script> "
            ]
          },
          "metadata": {}
        },
        {
          "output_type": "stream",
          "name": "stdout",
          "text": [
            "Saving kaggle.json to kaggle.json\n"
          ]
        }
      ]
    },
    {
      "cell_type": "code",
      "source": [
        "from google.colab import drive\n",
        "drive.mount('/content/drive')"
      ],
      "metadata": {
        "colab": {
          "base_uri": "https://localhost:8080/"
        },
        "id": "bFHAisMrfp5I",
        "outputId": "c0e3b6cd-37c7-4555-ee91-91593ac5a698"
      },
      "execution_count": null,
      "outputs": [
        {
          "output_type": "stream",
          "name": "stdout",
          "text": [
            "Mounted at /content/drive\n"
          ]
        }
      ]
    },
    {
      "cell_type": "code",
      "source": [
        "!mkdir ~/.kaggle\n",
        "!mv kaggle.json ~/.kaggle/\n",
        "!chmod 600 ~/.kaggle/kaggle.json"
      ],
      "metadata": {
        "id": "6HHk0KkVt0Oq",
        "colab": {
          "base_uri": "https://localhost:8080/"
        },
        "outputId": "2ebb2fa9-ec72-4e92-8413-afdc249f41c8"
      },
      "execution_count": null,
      "outputs": [
        {
          "output_type": "stream",
          "name": "stdout",
          "text": [
            "mkdir: cannot create directory ‘/root/.kaggle’: File exists\n",
            "mv: cannot stat 'kaggle.json': No such file or directory\n"
          ]
        }
      ]
    },
    {
      "cell_type": "code",
      "source": [
        "!kaggle datasets download -d roshan81/ageutk"
      ],
      "metadata": {
        "colab": {
          "base_uri": "https://localhost:8080/"
        },
        "id": "5b5M2Fmht-DZ",
        "outputId": "62b6f491-c969-407c-98d4-1f7c6b4ed630"
      },
      "execution_count": null,
      "outputs": [
        {
          "output_type": "stream",
          "name": "stdout",
          "text": [
            "Downloading ageutk.zip to /content\n",
            " 81% 95.0M/117M [00:00<00:00, 122MB/s]\n",
            "100% 117M/117M [00:00<00:00, 128MB/s] \n"
          ]
        }
      ]
    },
    {
      "cell_type": "code",
      "source": [
        "!unzip -q ageutk.zip -d ML_Project\n"
      ],
      "metadata": {
        "id": "CIxJ-T08uDRm"
      },
      "execution_count": null,
      "outputs": []
    },
    {
      "cell_type": "code",
      "execution_count": 98,
      "metadata": {
        "id": "EIULLaUBTqrb"
      },
      "outputs": [],
      "source": [
        "import pandas as pd\n",
        "import matplotlib.pyplot as plt\n",
        "##Import the necessary libraries\n",
        "import cv2\n",
        "import torch\n",
        "import torch.nn as nn\n",
        "import torch.optim as optim\n",
        "from torch.optim import lr_scheduler\n",
        "import numpy as np\n",
        "import torchvision\n",
        "import pandas as pd\n",
        "import numpy as np\n",
        "import os\n",
        "from sklearn.model_selection import train_test_split\n",
        "from torch.utils.data import Dataset, DataLoader\n",
        "from torchvision import transforms\n",
        "import torch.optim as optim\n",
        "import torch.nn.functional as F\n",
        "from sklearn.metrics import precision_score"
      ]
    },
    {
      "cell_type": "code",
      "source": [
        "# Check if GPU is available and move model and data to GPU\n",
        "device = torch.device('cuda' if torch.cuda.is_available() else 'cpu')"
      ],
      "metadata": {
        "id": "fwkBwdn6hxtf"
      },
      "execution_count": 99,
      "outputs": []
    },
    {
      "cell_type": "code",
      "source": [
        "data = pd.read_csv(\"/content/drive/MyDrive/ML Proj/ageutk_full.csv\")\n",
        "\n",
        "def df_range(df, min_val, max_val):\n",
        "    return df[(min_val <= df.age) & (df.age <= max_val)]\n",
        "\n",
        "\n",
        "og_df= df_range(data,0, 70)\n",
        "print(og_df)\n"
      ],
      "metadata": {
        "colab": {
          "base_uri": "https://localhost:8080/"
        },
        "id": "NDmQpK85kPOd",
        "outputId": "3ada1eba-25ea-4fdb-cd54-2dc843d7f825"
      },
      "execution_count": 100,
      "outputs": [
        {
          "output_type": "stream",
          "name": "stdout",
          "text": [
            "                                       files  age  gender\n",
            "0      26_0_2_20170104023102422.jpg.chip.jpg   26       0\n",
            "1      22_1_1_20170112233644761.jpg.chip.jpg   22       1\n",
            "2      21_1_3_20170105003215901.jpg.chip.jpg   21       1\n",
            "3      28_0_0_20170117180555824.jpg.chip.jpg   28       0\n",
            "4      17_1_4_20170103222931966.jpg.chip.jpg   17       1\n",
            "...                                      ...  ...     ...\n",
            "23163  41_0_0_20170109012220690.jpg.chip.jpg   41       0\n",
            "23164  42_0_0_20170117185738076.jpg.chip.jpg   42       0\n",
            "23165   2_0_2_20161219221701671.jpg.chip.jpg    2       0\n",
            "23166  65_1_0_20170110182002744.jpg.chip.jpg   65       1\n",
            "23167  66_0_1_20170117195116702.jpg.chip.jpg   66       0\n",
            "\n",
            "[22483 rows x 3 columns]\n"
          ]
        }
      ]
    },
    {
      "cell_type": "markdown",
      "source": [
        "# Here I got a visualized distribution of ages in the original dataset"
      ],
      "metadata": {
        "id": "38jyLVUdWfUQ"
      }
    },
    {
      "cell_type": "code",
      "source": [
        "#Calculate the count of each instance and create scatter plt:\n",
        "count_df = og_df.groupby('age').size().reset_index(name='Count')\n",
        "#Add labels\n",
        "plt.xlabel('Age')\n",
        "plt.ylabel('Count')\n",
        "plt.title('Scatter Plot of Count for Each Age')\n",
        "plt.scatter(count_df['age'], count_df['Count'])\n",
        "plt.show()\n",
        "\n",
        "#it appears that the distribution can be improved see plot belo"
      ],
      "metadata": {
        "colab": {
          "base_uri": "https://localhost:8080/",
          "height": 472
        },
        "id": "-aypuXT8UtpG",
        "outputId": "c701c1ac-c5e8-464f-9e05-196ef865bd1a"
      },
      "execution_count": 101,
      "outputs": [
        {
          "output_type": "display_data",
          "data": {
            "text/plain": [
              "<Figure size 640x480 with 1 Axes>"
            ],
            "image/png": "[encoded data removed]"
          },
          "metadata": {}
        }
      ]
    },
    {
      "cell_type": "markdown",
      "source": [
        "# Balancing dataset to have an even amount of entries for each age. 10 entries each"
      ],
      "metadata": {
        "id": "WWSreFMWWlta"
      }
    },
    {
      "cell_type": "code",
      "source": [
        "# Get the minimum count\n",
        "min_count = count_df['Count'].min() -40\n",
        "\n",
        "# Print the result\n",
        "print(f\"The minimum count is: {min_count}\")\n"
      ],
      "metadata": {
        "colab": {
          "base_uri": "https://localhost:8080/"
        },
        "id": "L5K21nFAWcoe",
        "outputId": "fd2a2cfc-4383-4c24-8eee-8146c41e2e1b"
      },
      "execution_count": 102,
      "outputs": [
        {
          "output_type": "stream",
          "name": "stdout",
          "text": [
            "The minimum count is: 10\n"
          ]
        }
      ]
    },
    {
      "cell_type": "markdown",
      "source": [
        "# change this to potentially have more data"
      ],
      "metadata": {
        "id": "xWiT6STsrric"
      }
    },
    {
      "cell_type": "code",
      "source": [
        "import pandas as pd\n",
        "\n",
        "def extract_instances(df, test_size=0.1):\n",
        "    result_df = pd.DataFrame(columns=df.columns)\n",
        "    test_df = pd.DataFrame(columns=df.columns)\n",
        "\n",
        "    # Iterate over unique ages\n",
        "    for age in df['age'].unique():\n",
        "        # Filter by age\n",
        "        age_df = df[df['age'] == age]\n",
        "\n",
        "        # Extract 5 male and 5 female instances randomly without replacement\n",
        "        male_instances = age_df[age_df['gender'] == 1].sample(10, replace=False)\n",
        "        female_instances = age_df[age_df['gender'] == 0].sample(10, replace=False)\n",
        "\n",
        "        # Split instances into training and test sets\n",
        "        male_train, male_test = train_test_split(male_instances, test_size=test_size)\n",
        "        female_train, female_test = train_test_split(female_instances, test_size=test_size)\n",
        "\n",
        "        # Concatenate the training results to the final DataFrame\n",
        "        result_df = pd.concat([result_df, male_train, female_train])\n",
        "\n",
        "        # Concatenate the test results to the test DataFrame\n",
        "        test_df = pd.concat([test_df, male_test, female_test])\n",
        "\n",
        "    return result_df, test_df\n",
        "\n",
        "# Call the function\n",
        "train_df, test_df = extract_instances(og_df)\n",
        "\n",
        "# Print the results\n",
        "print(\"Training Set:\")\n",
        "print(train_df)\n",
        "\n",
        "print(\"\\nTest Set:\")\n",
        "print(test_df)\n"
      ],
      "metadata": {
        "colab": {
          "base_uri": "https://localhost:8080/"
        },
        "id": "cLATr8wuFSGn",
        "outputId": "a12546e0-8f1e-4165-f99c-237394a64225"
      },
      "execution_count": 103,
      "outputs": [
        {
          "output_type": "stream",
          "name": "stdout",
          "text": [
            "Training Set:\n",
            "                                       files age gender\n",
            "6442   26_1_1_20170112212028557.jpg.chip.jpg  26      1\n",
            "17899  26_1_3_20170119155121850.jpg.chip.jpg  26      1\n",
            "15820  26_1_2_20170116184510768.jpg.chip.jpg  26      1\n",
            "15101  26_1_2_20170116184052988.jpg.chip.jpg  26      1\n",
            "303    26_1_1_20170112210535941.jpg.chip.jpg  26      1\n",
            "...                                      ...  ..    ...\n",
            "19168  68_0_0_20170117172924008.jpg.chip.jpg  68      0\n",
            "20079  68_0_0_20170117172938504.jpg.chip.jpg  68      0\n",
            "23063  68_0_0_20170104213632941.jpg.chip.jpg  68      0\n",
            "13489  68_0_0_20170105173736735.jpg.chip.jpg  68      0\n",
            "6557   68_0_0_20170117172835921.jpg.chip.jpg  68      0\n",
            "\n",
            "[1260 rows x 3 columns]\n",
            "\n",
            "Test Set:\n",
            "                                       files age gender\n",
            "17656  26_1_1_20170112213016277.jpg.chip.jpg  26      1\n",
            "8997   26_0_0_20170113210319560.jpg.chip.jpg  26      0\n",
            "13228  22_1_2_20170116162023656.jpg.chip.jpg  22      1\n",
            "8508   22_0_2_20170116172148714.jpg.chip.jpg  22      0\n",
            "6457   21_1_1_20170112231637574.jpg.chip.jpg  21      1\n",
            "...                                      ...  ..    ...\n",
            "16052  39_0_0_20170104201949978.jpg.chip.jpg  39      0\n",
            "14977   7_1_0_20170109203621621.jpg.chip.jpg   7      1\n",
            "12116   7_0_0_20170110215645684.jpg.chip.jpg   7      0\n",
            "17097  68_1_0_20170103184201412.jpg.chip.jpg  68      1\n",
            "1257   68_0_0_20170111204848471.jpg.chip.jpg  68      0\n",
            "\n",
            "[140 rows x 3 columns]\n"
          ]
        }
      ]
    },
    {
      "cell_type": "markdown",
      "source": [
        "Get train data"
      ],
      "metadata": {
        "id": "8XwKXPGAHNnk"
      }
    },
    {
      "cell_type": "code",
      "source": [
        "# Specify the path to the folder containing images in your Google Drive\n",
        "folder_path = '/content/ML_Project/UTKFace/UTKFace/UTKFace'\n",
        "# Initialize lists to store data\n",
        "age_column = []\n",
        "gender_column = []\n",
        "image_tensors = []\n",
        "\n",
        "# Loop through each row in the DataFrame\n",
        "for index, row in train_df.iterrows():\n",
        "    # Construct the full path to the image\n",
        "    image_path = os.path.join(folder_path, row['files'])\n",
        "\n",
        "    # Read the image using OpenCV\n",
        "    image = cv2.imread(image_path)\n",
        "\n",
        "    # Convert the image to a NumPy array (tensor)\n",
        "    image_tensor = np.array(image)\n",
        "\n",
        "    # Convert the RGB image tensor to weighted grayscale\n",
        "    gray_image_tensor = np.dot(image_tensor[..., :3], [0.299, 0.587, 0.114])\n",
        "\n",
        "    # Append the age, gender, and image_tensor to their respective lists\n",
        "    age_column.append(row['age'])\n",
        "    gender_column.append(row['gender'])\n",
        "    image_tensors.append(gray_image_tensor)\n",
        "\n",
        "# Convert the lists to NumPy arrays\n",
        "train_label = np.array(age_column)\n",
        "train_gender = np.array(gender_column)\n",
        "train_image_tensors = np.array(image_tensors)\n",
        "train_image_tensors = train_image_tensors.reshape((1260, -1))\n",
        "\n",
        "# Reshape arr1 to have the same number of rows as arr2 and one column\n",
        "train_gender_reshaped = train_gender.reshape((-1, 1))\n",
        "\n",
        "# Stack the two arrays horizontally\n",
        "train_image_tensors = np.hstack((train_image_tensors, train_gender_reshaped))\n",
        "\n",
        "\n",
        "# Display the shapes of the arrays\n",
        "print(\"label Array Shape:\", train_label.shape)\n",
        "\n",
        "print(\"Image Tensors Array Shape:\", train_image_tensors.shape)\n",
        "\n"
      ],
      "metadata": {
        "colab": {
          "base_uri": "https://localhost:8080/"
        },
        "id": "7Xbng4FHsBDY",
        "outputId": "ab70de66-92a7-403a-f392-53deb2d0e2d0"
      },
      "execution_count": 104,
      "outputs": [
        {
          "output_type": "stream",
          "name": "stdout",
          "text": [
            "label Array Shape: (1260,)\n",
            "Image Tensors Array Shape: (1260, 40001)\n"
          ]
        }
      ]
    },
    {
      "cell_type": "code",
      "source": [
        "# Calculate the count of each instance in the balanced dataset\n",
        "balanced_train_df = train_df.groupby('age').size().reset_index(name='Count')\n",
        "plt.scatter(balanced_train_df['age'], balanced_train_df['Count'])\n",
        "\n",
        "# Add labels and title\n",
        "plt.xlabel('Age')\n",
        "plt.ylabel('Count')\n",
        "plt.title('Balanced Scatter Plot of Count for Each Age')\n",
        "\n",
        "# Display the plot\n",
        "plt.show()\n"
      ],
      "metadata": {
        "colab": {
          "base_uri": "https://localhost:8080/",
          "height": 472
        },
        "id": "q3APwBW5X-1w",
        "outputId": "19dc7877-22cd-4259-d244-6f3f85514d36"
      },
      "execution_count": 105,
      "outputs": [
        {
          "output_type": "display_data",
          "data": {
            "text/plain": [
              "<Figure size 640x480 with 1 Axes>"
            ],
            "image/png": "[encoded data removed]"
          },
          "metadata": {}
        }
      ]
    },
    {
      "cell_type": "markdown",
      "source": [
        "Getting test data"
      ],
      "metadata": {
        "id": "R8okiczgHLJM"
      }
    },
    {
      "cell_type": "code",
      "source": [
        "# Specify the path to the folder containing images in your Google Drive\n",
        "folder_path = '/content/ML_Project/UTKFace/UTKFace/UTKFace'\n",
        "# Initialize lists to store data\n",
        "age_column = []\n",
        "gender_column = []\n",
        "image_tensors = []\n",
        "\n",
        "# Loop through each row in the DataFrame\n",
        "for index, row in test_df.iterrows():\n",
        "    # Construct the full path to the image\n",
        "    image_path = os.path.join(folder_path, row['files'])\n",
        "\n",
        "    # Read the image using OpenCV\n",
        "    image = cv2.imread(image_path)\n",
        "\n",
        "    # Convert the image to a NumPy array (tensor)\n",
        "    image_tensor = np.array(image)\n",
        "\n",
        "    # Convert the RGB image tensor to weighted grayscale\n",
        "    gray_image_tensor = np.dot(image_tensor[..., :3], [0.299, 0.587, 0.114])\n",
        "\n",
        "    # Append the age, gender, and image_tensor to their respective lists\n",
        "    age_column.append(row['age'])\n",
        "    gender_column.append(row['gender'])\n",
        "    image_tensors.append(gray_image_tensor)\n",
        "\n",
        "# Convert the lists to NumPy arrays\n",
        "test_label = np.array(age_column)\n",
        "test_gender = np.array(gender_column)\n",
        "test_image_tensors = np.array(image_tensors)\n",
        "test_image_tensors = test_image_tensors.reshape((140, -1))\n",
        "\n",
        "# Reshape arr1 to have the same number of rows as arr2 and one column\n",
        "test_gender_reshaped = test_gender.reshape((-1, 1))\n",
        "\n",
        "# Stack the two arrays horizontally\n",
        "test_image_tensors = np.hstack((test_image_tensors, test_gender_reshaped))\n",
        "# Display the shapes of the arrays\n",
        "print(\"label Array Shape:\", test_label.shape)\n",
        "\n",
        "print(\"Image Tensors Array Shape:\", test_image_tensors.shape)\n"
      ],
      "metadata": {
        "colab": {
          "base_uri": "https://localhost:8080/"
        },
        "id": "dO7PxvxLHHuG",
        "outputId": "b9d0a87a-e1bb-445a-8a90-7b3f6ecd5d32"
      },
      "execution_count": 106,
      "outputs": [
        {
          "output_type": "stream",
          "name": "stdout",
          "text": [
            "label Array Shape: (140,)\n",
            "Image Tensors Array Shape: (140, 40001)\n"
          ]
        }
      ]
    },
    {
      "cell_type": "markdown",
      "source": [
        "# get test_Df of ages 0-35"
      ],
      "metadata": {
        "id": "0bqn1oRRZCi_"
      }
    },
    {
      "cell_type": "code",
      "source": [
        "# Create a modified DataFrame with instances where 'Age' is less than 35\n",
        "u35_df = test_df[test_df['age'] < 35]"
      ],
      "metadata": {
        "id": "imVYQhziZB26"
      },
      "execution_count": 108,
      "outputs": []
    },
    {
      "cell_type": "code",
      "source": [
        "# Plot the scatter plot for the modified dataset\n",
        "modified_count_u35_df = u35_df.groupby('age').size().reset_index(name='Count')\n",
        "plt.scatter(modified_count_u35_df['age'], modified_count_u35_df['Count'])\n",
        "plt.xlabel('Age')\n",
        "plt.ylabel('Count')\n",
        "plt.title('Modified Scatter Plot of Count for Each Age (Age < 35)')\n",
        "plt.show()"
      ],
      "metadata": {
        "colab": {
          "base_uri": "https://localhost:8080/",
          "height": 472
        },
        "id": "PYLi8a_saPb4",
        "outputId": "6e2b7c09-da4b-4abf-ab74-5f932344e436"
      },
      "execution_count": 109,
      "outputs": [
        {
          "output_type": "display_data",
          "data": {
            "text/plain": [
              "<Figure size 640x480 with 1 Axes>"
            ],
            "image/png": "[encoded data removed]"
          },
          "metadata": {}
        }
      ]
    },
    {
      "cell_type": "code",
      "source": [
        "# Specify the path to the folder containing images in your Google Drive\n",
        "folder_path = '/content/ML_Project/UTKFace/UTKFace/UTKFace'\n",
        "# Initialize lists to store data\n",
        "age_column = []\n",
        "gender_column = []\n",
        "image_tensors = []\n",
        "\n",
        "# Loop through each row in the DataFrame\n",
        "for index, row in u35_df.iterrows():\n",
        "    # Construct the full path to the image\n",
        "    image_path = os.path.join(folder_path, row['files'])\n",
        "\n",
        "    # Read the image using OpenCV\n",
        "    image = cv2.imread(image_path)\n",
        "\n",
        "    # Convert the image to a NumPy array (tensor)\n",
        "    image_tensor = np.array(image)\n",
        "\n",
        "    # Convert the RGB image tensor to weighted grayscale\n",
        "    gray_image_tensor = np.dot(image_tensor[..., :3], [0.299, 0.587, 0.114])\n",
        "\n",
        "    # Append the age, gender, and image_tensor to their respective lists\n",
        "    age_column.append(row['age'])\n",
        "    gender_column.append(row['gender'])\n",
        "    image_tensors.append(gray_image_tensor)\n",
        "\n",
        "# Convert the lists to NumPy arrays\n",
        "u35_label = np.array(age_column)\n",
        "u35_gender = np.array(gender_column)\n",
        "u35_image_tensors = np.array(image_tensors)\n",
        "u35_image_tensors = u35_image_tensors.reshape(68, -1)\n",
        "\n",
        "# Assuming arr1 is the array of length 72, and arr2 is the array of shape (72, 40000)\n",
        "arr1 = np.random.rand(72)  # Replace this with your actual array\n",
        "arr2 = np.random.rand(72, 40000)  # Replace this with your actual array\n",
        "\n",
        "# Reshape arr1 to have the same number of rows as arr2 and one column\n",
        "u35_gender_reshaped = u35_gender.reshape((-1, 1))\n",
        "\n",
        "# Stack the two arrays horizontally\n",
        "u35_image_tensors = np.hstack((u35_image_tensors, u35_gender_reshaped))\n",
        "# Display the shapes of the arrays\n",
        "print(\"label Array Shape:\", u35_label.shape)\n",
        "print(\"Image Tensors Array Shape:\", u35_image_tensors.shape)\n"
      ],
      "metadata": {
        "colab": {
          "base_uri": "https://localhost:8080/"
        },
        "id": "mmYsgiYmIFOZ",
        "outputId": "54f602b9-fb30-45dc-d128-6cdf4425637e"
      },
      "execution_count": 110,
      "outputs": [
        {
          "output_type": "stream",
          "name": "stdout",
          "text": [
            "label Array Shape: (68,)\n",
            "Image Tensors Array Shape: (68, 40001)\n"
          ]
        }
      ]
    },
    {
      "cell_type": "markdown",
      "source": [
        "# get df of ages 35-70"
      ],
      "metadata": {
        "id": "2n1Qq37ZZIMU"
      }
    },
    {
      "cell_type": "code",
      "source": [
        "# Create a modified DataFrame with instances where 'Age' is greater than or equal to 35\n",
        "above_35_df = test_df[test_df['age'] >= 35]\n"
      ],
      "metadata": {
        "id": "3hybSUQdaajo"
      },
      "execution_count": 111,
      "outputs": []
    },
    {
      "cell_type": "code",
      "source": [
        "# Print the modified DataFrame of ages above 35\n",
        "print(\"Modified DataFrame:\")\n",
        "print(above_35_df)"
      ],
      "metadata": {
        "colab": {
          "base_uri": "https://localhost:8080/"
        },
        "id": "o_KiwVqQatDw",
        "outputId": "c1cd1e39-728d-4ca1-f9f3-3fc5e3f3b076"
      },
      "execution_count": 112,
      "outputs": [
        {
          "output_type": "stream",
          "name": "stdout",
          "text": [
            "Modified DataFrame:\n",
            "                                       files age gender\n",
            "21667  44_1_0_20170104210419052.jpg.chip.jpg  44      1\n",
            "3682   44_0_0_20170113210127508.jpg.chip.jpg  44      0\n",
            "13496  35_1_0_20170103183453835.jpg.chip.jpg  35      1\n",
            "6231   35_0_0_20170117175811427.jpg.chip.jpg  35      0\n",
            "3710   36_1_1_20170117133947127.jpg.chip.jpg  36      1\n",
            "...                                      ...  ..    ...\n",
            "15902  48_0_0_20170117140153107.jpg.chip.jpg  48      0\n",
            "16616  39_1_0_20170104210047180.jpg.chip.jpg  39      1\n",
            "16052  39_0_0_20170104201949978.jpg.chip.jpg  39      0\n",
            "17097  68_1_0_20170103184201412.jpg.chip.jpg  68      1\n",
            "1257   68_0_0_20170111204848471.jpg.chip.jpg  68      0\n",
            "\n",
            "[72 rows x 3 columns]\n"
          ]
        }
      ]
    },
    {
      "cell_type": "code",
      "source": [
        "\n",
        "# Plot the scatter plot for the modified dataset for ages above 35\n",
        "modified_count_above35_df = above_35_df.groupby('age').size().reset_index(name='Count')\n",
        "plt.scatter(modified_count_above35_df['age'], modified_count_above35_df['Count'])\n",
        "plt.xlabel('Age')\n",
        "plt.ylabel('Count')\n",
        "plt.title('Modified Scatter Plot of Count for Each Age (Age < 35)')\n",
        "plt.show()"
      ],
      "metadata": {
        "colab": {
          "base_uri": "https://localhost:8080/",
          "height": 472
        },
        "id": "sFo02JzTawT_",
        "outputId": "7b451388-528c-4233-8e42-2c26d697367c"
      },
      "execution_count": 113,
      "outputs": [
        {
          "output_type": "display_data",
          "data": {
            "text/plain": [
              "<Figure size 640x480 with 1 Axes>"
            ],
            "image/png": "[encoded data removed]"
          },
          "metadata": {}
        }
      ]
    },
    {
      "cell_type": "code",
      "source": [
        "\n",
        "\n",
        "\n",
        "\n",
        "# Specify the path to the folder containing images in your Google Drive\n",
        "folder_path = '/content/ML_Project/UTKFace/UTKFace/UTKFace'\n",
        "# Initialize lists to store data\n",
        "age_column = []\n",
        "gender_column = []\n",
        "image_tensors = []\n",
        "\n",
        "# Loop through each row in the DataFrame\n",
        "for index, row in above_35_df.iterrows():\n",
        "    # Construct the full path to the image\n",
        "    image_path = os.path.join(folder_path, row['files'])\n",
        "\n",
        "    # Read the image using OpenCV\n",
        "    image = cv2.imread(image_path)\n",
        "\n",
        "    # Convert the image to a NumPy array (tensor)\n",
        "    image_tensor = np.array(image)\n",
        "\n",
        "    # Convert the RGB image tensor to weighted grayscale\n",
        "    gray_image_tensor = np.dot(image_tensor[..., :3], [0.299, 0.587, 0.114])\n",
        "\n",
        "    # Append the age, gender, and image_tensor to their respective lists\n",
        "    age_column.append(row['age'])\n",
        "    gender_column.append(row['gender'])\n",
        "    image_tensors.append(gray_image_tensor)\n",
        "\n",
        "# Convert the lists to NumPy arrays\n",
        "above_35_label = np.array(age_column)\n",
        "above_35_gender = np.array(gender_column)\n",
        "above_35_image_tensors = np.array(image_tensors)\n",
        "above_35_image_tensors = above_35_image_tensors.reshape(72, -1)\n",
        "# Assuming arr1 is the array of length 72, and arr2 is the array of shape (72, 40000)\n",
        "arr1 = np.random.rand(72)  # Replace this with your actual array\n",
        "arr2 = np.random.rand(72, 40000)  # Replace this with your actual array\n",
        "\n",
        "# Reshape arr1 to have the same number of rows as arr2 and one column\n",
        "above_35_gender_reshaped = above_35_gender.reshape((-1, 1))\n",
        "\n",
        "# Stack the two arrays horizontally\n",
        "above_35_image_tensors = np.hstack((above_35_image_tensors, above_35_gender_reshaped))\n",
        "# Display the shapes of the arrays\n",
        "print(\"label Array Shape:\", above_35_label.shape)\n",
        "print(\"Image Tensors Array Shape:\", above_35_image_tensors.shape)\n"
      ],
      "metadata": {
        "colab": {
          "base_uri": "https://localhost:8080/"
        },
        "id": "4zGIyiWqIq7S",
        "outputId": "dc2e7efa-f9ff-4eb3-81e6-da2f71350f73"
      },
      "execution_count": 114,
      "outputs": [
        {
          "output_type": "stream",
          "name": "stdout",
          "text": [
            "label Array Shape: (72,)\n",
            "Image Tensors Array Shape: (72, 40001)\n"
          ]
        }
      ]
    },
    {
      "cell_type": "markdown",
      "source": [
        "Getting balance_df test set"
      ],
      "metadata": {
        "id": "nNw4IU_v4ZOd"
      }
    },
    {
      "cell_type": "code",
      "source": [
        "# Convert NumPy arrays to PyTorch tensors\n",
        "train_label = torch.tensor(train_label, dtype=torch.long)\n",
        "train_image_tensors = torch.tensor(train_image_tensors, dtype=torch.float)"
      ],
      "metadata": {
        "id": "7kxKBVFMP53e"
      },
      "execution_count": 115,
      "outputs": []
    },
    {
      "cell_type": "code",
      "source": [
        "class ThreeLinearLayerModel(nn.Module):\n",
        "    def __init__(self, input_size, hidden_size, output_size):\n",
        "        super(ThreeLinearLayerModel, self).__init__()\n",
        "        self.fc1 = nn.Linear(input_size, 2000)\n",
        "        self.relu1 = nn.ReLU()\n",
        "        self.fc2 = nn.Linear(2000, hidden_size)\n",
        "        self.relu2 = nn.ReLU()\n",
        "        self.fc3 = nn.Linear(hidden_size, output_size)\n",
        "\n",
        "    def forward(self, x):\n",
        "        x = self.fc1(x)\n",
        "        x = self.relu1(x)\n",
        "        x = self.fc2(x)\n",
        "        x = self.relu2(x)\n",
        "        x = self.fc3(x)\n",
        "        return x\n",
        "\n",
        "# Set the input, hidden, and output sizes based on your data\n",
        "input_size = 40001\n",
        "hidden_size = 256\n",
        "output_size = 71"
      ],
      "metadata": {
        "id": "WBMZZ3rKv8fX"
      },
      "execution_count": 125,
      "outputs": []
    },
    {
      "cell_type": "code",
      "source": [
        "# Create a custom dataset class\n",
        "class CustomDataset(Dataset):\n",
        "    def __init__(self, image_tensors, labels):\n",
        "        self.image_tensors = image_tensors\n",
        "        self.labels = labels\n",
        "\n",
        "    def __len__(self):\n",
        "        return len(self.labels)\n",
        "\n",
        "    def __getitem__(self, idx):\n",
        "        return self.image_tensors[idx], self.labels[idx]\n",
        "\n",
        "# Create a DataLoader for your dataset\n",
        "dataset = CustomDataset(train_image_tensors, train_label)\n",
        "dataloader = DataLoader(dataset, batch_size=4, shuffle=True)\n"
      ],
      "metadata": {
        "id": "qEyDxgGi2Wnk"
      },
      "execution_count": 130,
      "outputs": []
    },
    {
      "cell_type": "code",
      "source": [
        "\n",
        "\n",
        "# Instantiate the model and move it to GPU\n",
        "model = ThreeLinearLayerModel(input_size, hidden_size, output_size).to(device)\n",
        "\n",
        "# Define the loss function and optimizer\n",
        "criterion = nn.CrossEntropyLoss()\n",
        "optimizer = optim.Adam(model.parameters(), lr=0.05)"
      ],
      "metadata": {
        "id": "5fshXHvDNKMB"
      },
      "execution_count": 131,
      "outputs": []
    },
    {
      "cell_type": "code",
      "source": [
        "# Training loop\n",
        "num_epochs = 750\n",
        "model.train()\n",
        "for epoch in range(num_epochs):\n",
        "    for batch_images, batch_labels in dataloader:\n",
        "      # Move batch data to GPU\n",
        "        batch_images, batch_labels = batch_images.to(device), batch_labels.to(device)\n",
        "        # Forward pass\n",
        "        outputs = model(batch_images)\n",
        "\n",
        "        # Compute the loss\n",
        "        loss = criterion(outputs, batch_labels)\n",
        "\n",
        "        # Backward pass and optimization\n",
        "        optimizer.zero_grad()\n",
        "        loss.backward()\n",
        "        optimizer.step()\n",
        "\n",
        "    # Print the loss at the end of each epoch\n",
        "    print(f'Epoch [{epoch + 1}/{num_epochs}], Loss: {loss.item()}')"
      ],
      "metadata": {
        "colab": {
          "base_uri": "https://localhost:8080/"
        },
        "id": "T0M2oM188wKI",
        "outputId": "55c11d54-61b1-4934-a849-7506da5021c3"
      },
      "execution_count": 132,
      "outputs": [
        {
          "output_type": "stream",
          "name": "stdout",
          "text": [
            "Epoch [1/750], Loss: 4.236327171325684\n",
            "Epoch [2/750], Loss: 4.266475677490234\n",
            "Epoch [3/750], Loss: 4.240444660186768\n",
            "Epoch [4/750], Loss: 4.428926467895508\n",
            "Epoch [5/750], Loss: 4.507040023803711\n",
            "Epoch [6/750], Loss: 4.421314239501953\n",
            "Epoch [7/750], Loss: 4.243272304534912\n",
            "Epoch [8/750], Loss: 4.475138187408447\n",
            "Epoch [9/750], Loss: 4.29671573638916\n",
            "Epoch [10/750], Loss: 4.448749542236328\n",
            "Epoch [11/750], Loss: 4.319596290588379\n",
            "Epoch [12/750], Loss: 4.249947547912598\n",
            "Epoch [13/750], Loss: 4.152487754821777\n",
            "Epoch [14/750], Loss: 4.413296699523926\n",
            "Epoch [15/750], Loss: 4.319032669067383\n",
            "Epoch [16/750], Loss: 4.3024115562438965\n",
            "Epoch [17/750], Loss: 4.3788065910339355\n",
            "Epoch [18/750], Loss: 4.328176021575928\n",
            "Epoch [19/750], Loss: 4.2540693283081055\n",
            "Epoch [20/750], Loss: 4.43540620803833\n",
            "Epoch [21/750], Loss: 4.368250370025635\n",
            "Epoch [22/750], Loss: 4.425031661987305\n",
            "Epoch [23/750], Loss: 4.293853282928467\n",
            "Epoch [24/750], Loss: 4.535019874572754\n",
            "Epoch [25/750], Loss: 4.457972049713135\n",
            "Epoch [26/750], Loss: 4.28568172454834\n",
            "Epoch [27/750], Loss: 4.182213306427002\n",
            "Epoch [28/750], Loss: 4.148961067199707\n",
            "Epoch [29/750], Loss: 4.278764724731445\n",
            "Epoch [30/750], Loss: 4.3445844650268555\n",
            "Epoch [31/750], Loss: 4.402348518371582\n",
            "Epoch [32/750], Loss: 4.454536437988281\n",
            "Epoch [33/750], Loss: 4.302360534667969\n",
            "Epoch [34/750], Loss: 4.595134258270264\n",
            "Epoch [35/750], Loss: 4.180290699005127\n",
            "Epoch [36/750], Loss: 4.327520847320557\n",
            "Epoch [37/750], Loss: 4.371394157409668\n",
            "Epoch [38/750], Loss: 4.340263366699219\n",
            "Epoch [39/750], Loss: 4.31978702545166\n",
            "Epoch [40/750], Loss: 4.42213249206543\n",
            "Epoch [41/750], Loss: 4.281018257141113\n",
            "Epoch [42/750], Loss: 4.411707878112793\n",
            "Epoch [43/750], Loss: 4.329266548156738\n",
            "Epoch [44/750], Loss: 4.2038068771362305\n",
            "Epoch [45/750], Loss: 4.486684799194336\n",
            "Epoch [46/750], Loss: 4.501509666442871\n",
            "Epoch [47/750], Loss: 4.309216499328613\n",
            "Epoch [48/750], Loss: 4.38621187210083\n",
            "Epoch [49/750], Loss: 4.4903693199157715\n",
            "Epoch [50/750], Loss: 4.206997871398926\n",
            "Epoch [51/750], Loss: 4.352738857269287\n",
            "Epoch [52/750], Loss: 4.343595504760742\n",
            "Epoch [53/750], Loss: 4.206368923187256\n",
            "Epoch [54/750], Loss: 4.072808265686035\n",
            "Epoch [55/750], Loss: 4.253002643585205\n",
            "Epoch [56/750], Loss: 4.435327053070068\n",
            "Epoch [57/750], Loss: 4.3041462898254395\n",
            "Epoch [58/750], Loss: 4.430489540100098\n",
            "Epoch [59/750], Loss: 4.5555925369262695\n",
            "Epoch [60/750], Loss: 4.22694206237793\n",
            "Epoch [61/750], Loss: 4.292782306671143\n",
            "Epoch [62/750], Loss: 4.139392852783203\n",
            "Epoch [63/750], Loss: 4.1789398193359375\n",
            "Epoch [64/750], Loss: 4.376501083374023\n",
            "Epoch [65/750], Loss: 4.159688949584961\n",
            "Epoch [66/750], Loss: 4.586197376251221\n",
            "Epoch [67/750], Loss: 4.171287536621094\n",
            "Epoch [68/750], Loss: 4.589389801025391\n",
            "Epoch [69/750], Loss: 4.178891181945801\n",
            "Epoch [70/750], Loss: 4.358837604522705\n",
            "Epoch [71/750], Loss: 4.356884002685547\n",
            "Epoch [72/750], Loss: 4.145798206329346\n",
            "Epoch [73/750], Loss: 4.697607040405273\n",
            "Epoch [74/750], Loss: 4.573251724243164\n",
            "Epoch [75/750], Loss: 4.3247151374816895\n",
            "Epoch [76/750], Loss: 4.484494209289551\n",
            "Epoch [77/750], Loss: 4.288442611694336\n",
            "Epoch [78/750], Loss: 4.30256986618042\n",
            "Epoch [79/750], Loss: 4.492557048797607\n",
            "Epoch [80/750], Loss: 4.310149669647217\n",
            "Epoch [81/750], Loss: 4.220677375793457\n",
            "Epoch [82/750], Loss: 4.139466762542725\n",
            "Epoch [83/750], Loss: 4.370668888092041\n",
            "Epoch [84/750], Loss: 4.2998738288879395\n",
            "Epoch [85/750], Loss: 4.258697509765625\n",
            "Epoch [86/750], Loss: 4.284003257751465\n",
            "Epoch [87/750], Loss: 4.458642959594727\n",
            "Epoch [88/750], Loss: 4.708715438842773\n",
            "Epoch [89/750], Loss: 4.304343223571777\n",
            "Epoch [90/750], Loss: 4.249576568603516\n",
            "Epoch [91/750], Loss: 4.424243927001953\n",
            "Epoch [92/750], Loss: 4.2833356857299805\n",
            "Epoch [93/750], Loss: 4.499706268310547\n",
            "Epoch [94/750], Loss: 4.168696403503418\n",
            "Epoch [95/750], Loss: 4.438142776489258\n",
            "Epoch [96/750], Loss: 4.14180850982666\n",
            "Epoch [97/750], Loss: 4.542989253997803\n",
            "Epoch [98/750], Loss: 4.417496681213379\n",
            "Epoch [99/750], Loss: 4.354902267456055\n",
            "Epoch [100/750], Loss: 4.209641933441162\n",
            "Epoch [101/750], Loss: 4.385480880737305\n",
            "Epoch [102/750], Loss: 4.194939136505127\n",
            "Epoch [103/750], Loss: 4.4026103019714355\n",
            "Epoch [104/750], Loss: 4.36435079574585\n",
            "Epoch [105/750], Loss: 4.3165435791015625\n",
            "Epoch [106/750], Loss: 4.24636697769165\n",
            "Epoch [107/750], Loss: 4.095337390899658\n",
            "Epoch [108/750], Loss: 4.350464344024658\n",
            "Epoch [109/750], Loss: 4.526494979858398\n",
            "Epoch [110/750], Loss: 4.252951622009277\n",
            "Epoch [111/750], Loss: 4.36297082901001\n",
            "Epoch [112/750], Loss: 4.2980241775512695\n",
            "Epoch [113/750], Loss: 4.38434362411499\n",
            "Epoch [114/750], Loss: 4.57633113861084\n",
            "Epoch [115/750], Loss: 4.299065113067627\n",
            "Epoch [116/750], Loss: 4.290493965148926\n",
            "Epoch [117/750], Loss: 4.525249481201172\n",
            "Epoch [118/750], Loss: 4.593057632446289\n",
            "Epoch [119/750], Loss: 4.378352165222168\n",
            "Epoch [120/750], Loss: 4.455220699310303\n",
            "Epoch [121/750], Loss: 4.141337871551514\n",
            "Epoch [122/750], Loss: 4.40625524520874\n",
            "Epoch [123/750], Loss: 4.3512468338012695\n",
            "Epoch [124/750], Loss: 4.296774864196777\n",
            "Epoch [125/750], Loss: 4.3940534591674805\n",
            "Epoch [126/750], Loss: 4.203068256378174\n",
            "Epoch [127/750], Loss: 4.369100570678711\n",
            "Epoch [128/750], Loss: 4.177918434143066\n",
            "Epoch [129/750], Loss: 4.291743755340576\n",
            "Epoch [130/750], Loss: 4.3948655128479\n",
            "Epoch [131/750], Loss: 4.392391204833984\n",
            "Epoch [132/750], Loss: 4.279196739196777\n",
            "Epoch [133/750], Loss: 4.085300922393799\n",
            "Epoch [134/750], Loss: 4.317606449127197\n",
            "Epoch [135/750], Loss: 4.172158718109131\n",
            "Epoch [136/750], Loss: 4.273194313049316\n",
            "Epoch [137/750], Loss: 4.433794975280762\n",
            "Epoch [138/750], Loss: 4.277303695678711\n",
            "Epoch [139/750], Loss: 4.1907758712768555\n",
            "Epoch [140/750], Loss: 4.366143226623535\n",
            "Epoch [141/750], Loss: 4.12324333190918\n",
            "Epoch [142/750], Loss: 4.436321258544922\n",
            "Epoch [143/750], Loss: 4.4368896484375\n",
            "Epoch [144/750], Loss: 4.324347496032715\n",
            "Epoch [145/750], Loss: 4.341174125671387\n",
            "Epoch [146/750], Loss: 4.445724010467529\n",
            "Epoch [147/750], Loss: 4.276667594909668\n",
            "Epoch [148/750], Loss: 4.173935890197754\n",
            "Epoch [149/750], Loss: 4.311237335205078\n",
            "Epoch [150/750], Loss: 4.205721378326416\n",
            "Epoch [151/750], Loss: 4.406346797943115\n",
            "Epoch [152/750], Loss: 4.278949737548828\n",
            "Epoch [153/750], Loss: 4.321557998657227\n",
            "Epoch [154/750], Loss: 4.242651462554932\n",
            "Epoch [155/750], Loss: 4.4907732009887695\n",
            "Epoch [156/750], Loss: 4.259651184082031\n",
            "Epoch [157/750], Loss: 4.31187105178833\n",
            "Epoch [158/750], Loss: 4.465390682220459\n",
            "Epoch [159/750], Loss: 4.343457221984863\n",
            "Epoch [160/750], Loss: 4.3605732917785645\n",
            "Epoch [161/750], Loss: 4.421587944030762\n",
            "Epoch [162/750], Loss: 4.20241641998291\n",
            "Epoch [163/750], Loss: 4.239297866821289\n",
            "Epoch [164/750], Loss: 4.223082542419434\n",
            "Epoch [165/750], Loss: 4.244354248046875\n",
            "Epoch [166/750], Loss: 4.5095391273498535\n",
            "Epoch [167/750], Loss: 4.369024753570557\n",
            "Epoch [168/750], Loss: 4.1710968017578125\n",
            "Epoch [169/750], Loss: 4.348416328430176\n",
            "Epoch [170/750], Loss: 4.497340202331543\n",
            "Epoch [171/750], Loss: 4.406263828277588\n",
            "Epoch [172/750], Loss: 4.081105709075928\n",
            "Epoch [173/750], Loss: 4.345767974853516\n",
            "Epoch [174/750], Loss: 4.472227096557617\n",
            "Epoch [175/750], Loss: 4.269414901733398\n",
            "Epoch [176/750], Loss: 4.483267307281494\n",
            "Epoch [177/750], Loss: 4.294740200042725\n",
            "Epoch [178/750], Loss: 4.447332382202148\n",
            "Epoch [179/750], Loss: 4.17324686050415\n",
            "Epoch [180/750], Loss: 4.190664768218994\n",
            "Epoch [181/750], Loss: 4.308276653289795\n",
            "Epoch [182/750], Loss: 4.451860427856445\n",
            "Epoch [183/750], Loss: 4.350630760192871\n",
            "Epoch [184/750], Loss: 4.099787712097168\n",
            "Epoch [185/750], Loss: 4.542044162750244\n",
            "Epoch [186/750], Loss: 4.107857704162598\n",
            "Epoch [187/750], Loss: 4.3221635818481445\n",
            "Epoch [188/750], Loss: 4.355294227600098\n",
            "Epoch [189/750], Loss: 4.113215446472168\n",
            "Epoch [190/750], Loss: 4.5460028648376465\n",
            "Epoch [191/750], Loss: 4.211512565612793\n",
            "Epoch [192/750], Loss: 4.253120422363281\n",
            "Epoch [193/750], Loss: 4.263600826263428\n",
            "Epoch [194/750], Loss: 4.299286842346191\n",
            "Epoch [195/750], Loss: 4.142579555511475\n",
            "Epoch [196/750], Loss: 4.197513580322266\n",
            "Epoch [197/750], Loss: 4.330637454986572\n",
            "Epoch [198/750], Loss: 4.357934951782227\n",
            "Epoch [199/750], Loss: 4.229831695556641\n",
            "Epoch [200/750], Loss: 4.384298324584961\n",
            "Epoch [201/750], Loss: 4.343812942504883\n",
            "Epoch [202/750], Loss: 4.313778877258301\n",
            "Epoch [203/750], Loss: 4.400521278381348\n",
            "Epoch [204/750], Loss: 4.363899230957031\n",
            "Epoch [205/750], Loss: 4.444800853729248\n",
            "Epoch [206/750], Loss: 4.41549015045166\n",
            "Epoch [207/750], Loss: 4.416301727294922\n",
            "Epoch [208/750], Loss: 4.503255844116211\n",
            "Epoch [209/750], Loss: 4.4442243576049805\n",
            "Epoch [210/750], Loss: 4.184427261352539\n",
            "Epoch [211/750], Loss: 4.494709014892578\n",
            "Epoch [212/750], Loss: 4.561788082122803\n",
            "Epoch [213/750], Loss: 4.311779022216797\n",
            "Epoch [214/750], Loss: 4.322722434997559\n",
            "Epoch [215/750], Loss: 4.265501022338867\n",
            "Epoch [216/750], Loss: 4.136105537414551\n",
            "Epoch [217/750], Loss: 4.182329177856445\n",
            "Epoch [218/750], Loss: 4.434616565704346\n",
            "Epoch [219/750], Loss: 4.416465759277344\n",
            "Epoch [220/750], Loss: 4.338479995727539\n",
            "Epoch [221/750], Loss: 4.358067512512207\n",
            "Epoch [222/750], Loss: 4.390315055847168\n",
            "Epoch [223/750], Loss: 4.172457218170166\n",
            "Epoch [224/750], Loss: 4.544064044952393\n",
            "Epoch [225/750], Loss: 4.39832878112793\n",
            "Epoch [226/750], Loss: 4.402719497680664\n",
            "Epoch [227/750], Loss: 4.148723125457764\n",
            "Epoch [228/750], Loss: 4.183042049407959\n",
            "Epoch [229/750], Loss: 4.189664840698242\n",
            "Epoch [230/750], Loss: 4.397531509399414\n",
            "Epoch [231/750], Loss: 4.425550937652588\n",
            "Epoch [232/750], Loss: 4.43630313873291\n",
            "Epoch [233/750], Loss: 4.396461486816406\n",
            "Epoch [234/750], Loss: 4.282358169555664\n",
            "Epoch [235/750], Loss: 4.4173994064331055\n",
            "Epoch [236/750], Loss: 4.159140110015869\n",
            "Epoch [237/750], Loss: 4.341342926025391\n",
            "Epoch [238/750], Loss: 4.276939392089844\n",
            "Epoch [239/750], Loss: 4.241898536682129\n",
            "Epoch [240/750], Loss: 4.3473310470581055\n",
            "Epoch [241/750], Loss: 4.458483695983887\n",
            "Epoch [242/750], Loss: 4.2145304679870605\n",
            "Epoch [243/750], Loss: 4.380134105682373\n",
            "Epoch [244/750], Loss: 4.437136650085449\n",
            "Epoch [245/750], Loss: 4.253687858581543\n",
            "Epoch [246/750], Loss: 4.410671234130859\n",
            "Epoch [247/750], Loss: 4.438032150268555\n",
            "Epoch [248/750], Loss: 4.321070671081543\n",
            "Epoch [249/750], Loss: 4.333196640014648\n",
            "Epoch [250/750], Loss: 4.302036762237549\n",
            "Epoch [251/750], Loss: 4.290348052978516\n",
            "Epoch [252/750], Loss: 4.337751865386963\n",
            "Epoch [253/750], Loss: 4.542145729064941\n",
            "Epoch [254/750], Loss: 4.385193824768066\n",
            "Epoch [255/750], Loss: 4.4203572273254395\n",
            "Epoch [256/750], Loss: 4.346256256103516\n",
            "Epoch [257/750], Loss: 4.229569435119629\n",
            "Epoch [258/750], Loss: 4.466982364654541\n",
            "Epoch [259/750], Loss: 4.273687362670898\n",
            "Epoch [260/750], Loss: 4.312247276306152\n",
            "Epoch [261/750], Loss: 4.189688205718994\n",
            "Epoch [262/750], Loss: 4.213738441467285\n",
            "Epoch [263/750], Loss: 4.478360176086426\n",
            "Epoch [264/750], Loss: 4.244795799255371\n",
            "Epoch [265/750], Loss: 4.376407623291016\n",
            "Epoch [266/750], Loss: 4.302797794342041\n",
            "Epoch [267/750], Loss: 4.43306827545166\n",
            "Epoch [268/750], Loss: 4.311056137084961\n",
            "Epoch [269/750], Loss: 4.311473846435547\n",
            "Epoch [270/750], Loss: 4.269806385040283\n",
            "Epoch [271/750], Loss: 4.454272747039795\n",
            "Epoch [272/750], Loss: 4.497889041900635\n",
            "Epoch [273/750], Loss: 4.340021133422852\n",
            "Epoch [274/750], Loss: 4.447115898132324\n",
            "Epoch [275/750], Loss: 4.175870895385742\n",
            "Epoch [276/750], Loss: 4.2252302169799805\n",
            "Epoch [277/750], Loss: 4.354802131652832\n",
            "Epoch [278/750], Loss: 4.344110488891602\n",
            "Epoch [279/750], Loss: 4.249940395355225\n",
            "Epoch [280/750], Loss: 4.30159854888916\n",
            "Epoch [281/750], Loss: 4.429835319519043\n",
            "Epoch [282/750], Loss: 4.42818546295166\n",
            "Epoch [283/750], Loss: 4.5386834144592285\n",
            "Epoch [284/750], Loss: 4.293196201324463\n",
            "Epoch [285/750], Loss: 4.366832733154297\n",
            "Epoch [286/750], Loss: 4.181724548339844\n",
            "Epoch [287/750], Loss: 4.22959041595459\n",
            "Epoch [288/750], Loss: 4.38727331161499\n",
            "Epoch [289/750], Loss: 4.3563385009765625\n",
            "Epoch [290/750], Loss: 4.363532066345215\n",
            "Epoch [291/750], Loss: 4.413561820983887\n",
            "Epoch [292/750], Loss: 4.157809734344482\n",
            "Epoch [293/750], Loss: 4.327568054199219\n",
            "Epoch [294/750], Loss: 4.3875627517700195\n",
            "Epoch [295/750], Loss: 4.131413459777832\n",
            "Epoch [296/750], Loss: 4.291570663452148\n",
            "Epoch [297/750], Loss: 4.258986949920654\n",
            "Epoch [298/750], Loss: 4.415649890899658\n",
            "Epoch [299/750], Loss: 4.239997863769531\n",
            "Epoch [300/750], Loss: 4.344885349273682\n",
            "Epoch [301/750], Loss: 4.391481876373291\n",
            "Epoch [302/750], Loss: 4.3086676597595215\n",
            "Epoch [303/750], Loss: 4.369081020355225\n",
            "Epoch [304/750], Loss: 4.486665725708008\n",
            "Epoch [305/750], Loss: 4.359402179718018\n",
            "Epoch [306/750], Loss: 4.269195556640625\n",
            "Epoch [307/750], Loss: 4.4755024909973145\n",
            "Epoch [308/750], Loss: 4.393387794494629\n",
            "Epoch [309/750], Loss: 4.237279415130615\n",
            "Epoch [310/750], Loss: 4.367642402648926\n",
            "Epoch [311/750], Loss: 4.446747303009033\n",
            "Epoch [312/750], Loss: 4.337001323699951\n",
            "Epoch [313/750], Loss: 4.3673095703125\n",
            "Epoch [314/750], Loss: 4.399770736694336\n",
            "Epoch [315/750], Loss: 4.291221618652344\n",
            "Epoch [316/750], Loss: 4.208153247833252\n",
            "Epoch [317/750], Loss: 4.511645317077637\n",
            "Epoch [318/750], Loss: 4.374782562255859\n",
            "Epoch [319/750], Loss: 4.443925380706787\n",
            "Epoch [320/750], Loss: 4.2128400802612305\n",
            "Epoch [321/750], Loss: 4.3670806884765625\n",
            "Epoch [322/750], Loss: 4.420955657958984\n",
            "Epoch [323/750], Loss: 4.224371910095215\n",
            "Epoch [324/750], Loss: 4.390918731689453\n",
            "Epoch [325/750], Loss: 4.276802062988281\n",
            "Epoch [326/750], Loss: 4.242670059204102\n",
            "Epoch [327/750], Loss: 4.277589797973633\n",
            "Epoch [328/750], Loss: 4.4939470291137695\n",
            "Epoch [329/750], Loss: 4.351985454559326\n",
            "Epoch [330/750], Loss: 4.365948677062988\n",
            "Epoch [331/750], Loss: 4.371049880981445\n",
            "Epoch [332/750], Loss: 4.404931545257568\n",
            "Epoch [333/750], Loss: 4.274757385253906\n",
            "Epoch [334/750], Loss: 4.164419174194336\n",
            "Epoch [335/750], Loss: 4.238418102264404\n",
            "Epoch [336/750], Loss: 4.3245697021484375\n",
            "Epoch [337/750], Loss: 4.326201438903809\n",
            "Epoch [338/750], Loss: 4.240226745605469\n",
            "Epoch [339/750], Loss: 4.284871578216553\n",
            "Epoch [340/750], Loss: 4.452386856079102\n",
            "Epoch [341/750], Loss: 4.2803635597229\n",
            "Epoch [342/750], Loss: 4.422389030456543\n",
            "Epoch [343/750], Loss: 4.398872375488281\n",
            "Epoch [344/750], Loss: 4.275484561920166\n",
            "Epoch [345/750], Loss: 4.197564125061035\n",
            "Epoch [346/750], Loss: 4.325867176055908\n",
            "Epoch [347/750], Loss: 4.231997489929199\n",
            "Epoch [348/750], Loss: 4.298058032989502\n",
            "Epoch [349/750], Loss: 4.374217987060547\n",
            "Epoch [350/750], Loss: 4.078234672546387\n",
            "Epoch [351/750], Loss: 4.346161842346191\n",
            "Epoch [352/750], Loss: 4.495390892028809\n",
            "Epoch [353/750], Loss: 4.394424915313721\n",
            "Epoch [354/750], Loss: 4.370271682739258\n",
            "Epoch [355/750], Loss: 4.394266128540039\n",
            "Epoch [356/750], Loss: 4.44612979888916\n",
            "Epoch [357/750], Loss: 4.388279914855957\n",
            "Epoch [358/750], Loss: 4.337695121765137\n",
            "Epoch [359/750], Loss: 4.35897970199585\n",
            "Epoch [360/750], Loss: 4.45856237411499\n",
            "Epoch [361/750], Loss: 4.456451892852783\n",
            "Epoch [362/750], Loss: 4.491408824920654\n",
            "Epoch [363/750], Loss: 4.2679595947265625\n",
            "Epoch [364/750], Loss: 4.379739761352539\n",
            "Epoch [365/750], Loss: 4.270613670349121\n",
            "Epoch [366/750], Loss: 4.1651458740234375\n",
            "Epoch [367/750], Loss: 4.183895587921143\n",
            "Epoch [368/750], Loss: 4.096197605133057\n",
            "Epoch [369/750], Loss: 4.055741310119629\n",
            "Epoch [370/750], Loss: 4.312971115112305\n",
            "Epoch [371/750], Loss: 4.487191200256348\n",
            "Epoch [372/750], Loss: 4.338846206665039\n",
            "Epoch [373/750], Loss: 4.294861793518066\n",
            "Epoch [374/750], Loss: 4.2980852127075195\n",
            "Epoch [375/750], Loss: 4.309326171875\n",
            "Epoch [376/750], Loss: 4.150285243988037\n",
            "Epoch [377/750], Loss: 4.403631210327148\n",
            "Epoch [378/750], Loss: 4.423366069793701\n",
            "Epoch [379/750], Loss: 4.441953659057617\n",
            "Epoch [380/750], Loss: 4.306386470794678\n",
            "Epoch [381/750], Loss: 4.210169315338135\n",
            "Epoch [382/750], Loss: 4.362789630889893\n",
            "Epoch [383/750], Loss: 4.206841468811035\n",
            "Epoch [384/750], Loss: 4.199607849121094\n",
            "Epoch [385/750], Loss: 4.150982856750488\n",
            "Epoch [386/750], Loss: 4.453854084014893\n",
            "Epoch [387/750], Loss: 4.406827926635742\n",
            "Epoch [388/750], Loss: 4.423942565917969\n",
            "Epoch [389/750], Loss: 4.170716285705566\n",
            "Epoch [390/750], Loss: 4.390762805938721\n",
            "Epoch [391/750], Loss: 4.103084564208984\n",
            "Epoch [392/750], Loss: 4.36190938949585\n",
            "Epoch [393/750], Loss: 4.566200256347656\n",
            "Epoch [394/750], Loss: 4.543381214141846\n",
            "Epoch [395/750], Loss: 4.277605056762695\n",
            "Epoch [396/750], Loss: 4.38819694519043\n",
            "Epoch [397/750], Loss: 4.2199811935424805\n",
            "Epoch [398/750], Loss: 4.29297399520874\n",
            "Epoch [399/750], Loss: 4.286309242248535\n",
            "Epoch [400/750], Loss: 4.367038726806641\n",
            "Epoch [401/750], Loss: 4.340958595275879\n",
            "Epoch [402/750], Loss: 4.372180461883545\n",
            "Epoch [403/750], Loss: 4.316915512084961\n",
            "Epoch [404/750], Loss: 4.323945999145508\n",
            "Epoch [405/750], Loss: 4.28971529006958\n",
            "Epoch [406/750], Loss: 4.419979095458984\n",
            "Epoch [407/750], Loss: 4.373171329498291\n",
            "Epoch [408/750], Loss: 4.27683162689209\n",
            "Epoch [409/750], Loss: 4.45072078704834\n",
            "Epoch [410/750], Loss: 4.218972206115723\n",
            "Epoch [411/750], Loss: 4.4460248947143555\n",
            "Epoch [412/750], Loss: 4.246859073638916\n",
            "Epoch [413/750], Loss: 4.181012153625488\n",
            "Epoch [414/750], Loss: 4.123255729675293\n",
            "Epoch [415/750], Loss: 4.373517036437988\n",
            "Epoch [416/750], Loss: 4.366284370422363\n",
            "Epoch [417/750], Loss: 4.196712017059326\n",
            "Epoch [418/750], Loss: 4.486492156982422\n",
            "Epoch [419/750], Loss: 4.46579122543335\n",
            "Epoch [420/750], Loss: 4.477372169494629\n",
            "Epoch [421/750], Loss: 4.272660732269287\n",
            "Epoch [422/750], Loss: 4.33491325378418\n",
            "Epoch [423/750], Loss: 4.4425272941589355\n",
            "Epoch [424/750], Loss: 4.505364418029785\n",
            "Epoch [425/750], Loss: 4.379751205444336\n",
            "Epoch [426/750], Loss: 4.13559627532959\n",
            "Epoch [427/750], Loss: 4.384463310241699\n",
            "Epoch [428/750], Loss: 4.326851844787598\n",
            "Epoch [429/750], Loss: 4.376349925994873\n",
            "Epoch [430/750], Loss: 4.433746337890625\n",
            "Epoch [431/750], Loss: 4.281346321105957\n",
            "Epoch [432/750], Loss: 4.451940059661865\n",
            "Epoch [433/750], Loss: 4.33502721786499\n",
            "Epoch [434/750], Loss: 4.24454402923584\n",
            "Epoch [435/750], Loss: 4.338842868804932\n",
            "Epoch [436/750], Loss: 4.292378902435303\n",
            "Epoch [437/750], Loss: 4.086985111236572\n",
            "Epoch [438/750], Loss: 4.17814826965332\n",
            "Epoch [439/750], Loss: 4.377279758453369\n",
            "Epoch [440/750], Loss: 4.220833778381348\n",
            "Epoch [441/750], Loss: 4.294001579284668\n",
            "Epoch [442/750], Loss: 4.379615306854248\n",
            "Epoch [443/750], Loss: 4.164188861846924\n",
            "Epoch [444/750], Loss: 4.4738359451293945\n",
            "Epoch [445/750], Loss: 4.394535064697266\n",
            "Epoch [446/750], Loss: 4.241413116455078\n",
            "Epoch [447/750], Loss: 4.340370178222656\n",
            "Epoch [448/750], Loss: 4.1773810386657715\n",
            "Epoch [449/750], Loss: 4.466683864593506\n",
            "Epoch [450/750], Loss: 4.353157043457031\n",
            "Epoch [451/750], Loss: 4.385112762451172\n",
            "Epoch [452/750], Loss: 4.280145645141602\n",
            "Epoch [453/750], Loss: 4.251228332519531\n",
            "Epoch [454/750], Loss: 4.398879051208496\n",
            "Epoch [455/750], Loss: 4.135469913482666\n",
            "Epoch [456/750], Loss: 4.223187446594238\n",
            "Epoch [457/750], Loss: 4.363490581512451\n",
            "Epoch [458/750], Loss: 4.2270708084106445\n",
            "Epoch [459/750], Loss: 4.330554962158203\n",
            "Epoch [460/750], Loss: 4.371808052062988\n",
            "Epoch [461/750], Loss: 4.262468338012695\n",
            "Epoch [462/750], Loss: 4.3491716384887695\n",
            "Epoch [463/750], Loss: 4.2429351806640625\n",
            "Epoch [464/750], Loss: 4.414129734039307\n",
            "Epoch [465/750], Loss: 4.4907684326171875\n",
            "Epoch [466/750], Loss: 4.3063554763793945\n",
            "Epoch [467/750], Loss: 4.33293342590332\n",
            "Epoch [468/750], Loss: 4.601010322570801\n",
            "Epoch [469/750], Loss: 4.302748680114746\n",
            "Epoch [470/750], Loss: 4.476504325866699\n",
            "Epoch [471/750], Loss: 4.2615966796875\n",
            "Epoch [472/750], Loss: 4.152042865753174\n",
            "Epoch [473/750], Loss: 4.363307952880859\n",
            "Epoch [474/750], Loss: 4.477115154266357\n",
            "Epoch [475/750], Loss: 4.322546005249023\n",
            "Epoch [476/750], Loss: 4.289374351501465\n",
            "Epoch [477/750], Loss: 4.522106170654297\n",
            "Epoch [478/750], Loss: 4.187199592590332\n",
            "Epoch [479/750], Loss: 4.0521345138549805\n",
            "Epoch [480/750], Loss: 4.490562915802002\n",
            "Epoch [481/750], Loss: 4.321423530578613\n",
            "Epoch [482/750], Loss: 4.4697980880737305\n",
            "Epoch [483/750], Loss: 4.618304252624512\n",
            "Epoch [484/750], Loss: 4.328960418701172\n",
            "Epoch [485/750], Loss: 4.133392333984375\n",
            "Epoch [486/750], Loss: 4.33345890045166\n",
            "Epoch [487/750], Loss: 4.451996803283691\n",
            "Epoch [488/750], Loss: 4.120089530944824\n",
            "Epoch [489/750], Loss: 4.408027648925781\n",
            "Epoch [490/750], Loss: 4.378541469573975\n",
            "Epoch [491/750], Loss: 4.425361633300781\n",
            "Epoch [492/750], Loss: 4.336798667907715\n",
            "Epoch [493/750], Loss: 4.289863109588623\n",
            "Epoch [494/750], Loss: 4.122376918792725\n",
            "Epoch [495/750], Loss: 4.289661407470703\n",
            "Epoch [496/750], Loss: 4.28920316696167\n",
            "Epoch [497/750], Loss: 4.381249904632568\n",
            "Epoch [498/750], Loss: 4.556868076324463\n",
            "Epoch [499/750], Loss: 4.271928787231445\n",
            "Epoch [500/750], Loss: 4.328256607055664\n",
            "Epoch [501/750], Loss: 4.371281623840332\n",
            "Epoch [502/750], Loss: 4.3777031898498535\n",
            "Epoch [503/750], Loss: 4.509783744812012\n",
            "Epoch [504/750], Loss: 4.098708152770996\n",
            "Epoch [505/750], Loss: 4.262731552124023\n",
            "Epoch [506/750], Loss: 4.331921577453613\n",
            "Epoch [507/750], Loss: 4.452930450439453\n",
            "Epoch [508/750], Loss: 4.285727500915527\n",
            "Epoch [509/750], Loss: 4.3144025802612305\n",
            "Epoch [510/750], Loss: 4.448848247528076\n",
            "Epoch [511/750], Loss: 4.411879539489746\n",
            "Epoch [512/750], Loss: 4.246355056762695\n",
            "Epoch [513/750], Loss: 4.442316055297852\n",
            "Epoch [514/750], Loss: 4.288091659545898\n",
            "Epoch [515/750], Loss: 4.502674579620361\n",
            "Epoch [516/750], Loss: 4.56500244140625\n",
            "Epoch [517/750], Loss: 4.362812042236328\n",
            "Epoch [518/750], Loss: 4.279866695404053\n",
            "Epoch [519/750], Loss: 4.345393180847168\n",
            "Epoch [520/750], Loss: 4.326664924621582\n",
            "Epoch [521/750], Loss: 4.309903144836426\n",
            "Epoch [522/750], Loss: 4.238063812255859\n",
            "Epoch [523/750], Loss: 4.361221790313721\n",
            "Epoch [524/750], Loss: 4.496664524078369\n",
            "Epoch [525/750], Loss: 4.387571334838867\n",
            "Epoch [526/750], Loss: 4.461132049560547\n",
            "Epoch [527/750], Loss: 4.364336967468262\n",
            "Epoch [528/750], Loss: 4.307438373565674\n",
            "Epoch [529/750], Loss: 4.227237701416016\n",
            "Epoch [530/750], Loss: 4.325956344604492\n",
            "Epoch [531/750], Loss: 4.491704940795898\n",
            "Epoch [532/750], Loss: 4.400108814239502\n",
            "Epoch [533/750], Loss: 4.4310150146484375\n",
            "Epoch [534/750], Loss: 4.269291400909424\n",
            "Epoch [535/750], Loss: 4.049904823303223\n",
            "Epoch [536/750], Loss: 4.258162021636963\n",
            "Epoch [537/750], Loss: 4.322852611541748\n",
            "Epoch [538/750], Loss: 4.3382182121276855\n",
            "Epoch [539/750], Loss: 4.2135515213012695\n",
            "Epoch [540/750], Loss: 4.308413505554199\n",
            "Epoch [541/750], Loss: 4.259873867034912\n",
            "Epoch [542/750], Loss: 4.415225982666016\n",
            "Epoch [543/750], Loss: 4.2349700927734375\n",
            "Epoch [544/750], Loss: 4.251167297363281\n",
            "Epoch [545/750], Loss: 4.27716064453125\n",
            "Epoch [546/750], Loss: 4.292470932006836\n",
            "Epoch [547/750], Loss: 4.473172187805176\n",
            "Epoch [548/750], Loss: 4.313404083251953\n",
            "Epoch [549/750], Loss: 4.322422027587891\n",
            "Epoch [550/750], Loss: 4.443014144897461\n",
            "Epoch [551/750], Loss: 4.326261520385742\n",
            "Epoch [552/750], Loss: 4.234003067016602\n",
            "Epoch [553/750], Loss: 4.229788303375244\n",
            "Epoch [554/750], Loss: 4.241833209991455\n",
            "Epoch [555/750], Loss: 4.240657806396484\n",
            "Epoch [556/750], Loss: 4.2616400718688965\n",
            "Epoch [557/750], Loss: 4.423212051391602\n",
            "Epoch [558/750], Loss: 4.34387731552124\n",
            "Epoch [559/750], Loss: 4.189619541168213\n",
            "Epoch [560/750], Loss: 4.059478282928467\n",
            "Epoch [561/750], Loss: 4.431523323059082\n",
            "Epoch [562/750], Loss: 4.229799747467041\n",
            "Epoch [563/750], Loss: 4.403117656707764\n",
            "Epoch [564/750], Loss: 4.277891159057617\n",
            "Epoch [565/750], Loss: 4.038187026977539\n",
            "Epoch [566/750], Loss: 4.5150065422058105\n",
            "Epoch [567/750], Loss: 4.261285781860352\n",
            "Epoch [568/750], Loss: 4.308436870574951\n",
            "Epoch [569/750], Loss: 4.241038799285889\n",
            "Epoch [570/750], Loss: 4.414465427398682\n",
            "Epoch [571/750], Loss: 4.312831878662109\n",
            "Epoch [572/750], Loss: 4.212625503540039\n",
            "Epoch [573/750], Loss: 4.2262468338012695\n",
            "Epoch [574/750], Loss: 4.341487884521484\n",
            "Epoch [575/750], Loss: 4.5819244384765625\n",
            "Epoch [576/750], Loss: 4.107455253601074\n",
            "Epoch [577/750], Loss: 4.322015762329102\n",
            "Epoch [578/750], Loss: 4.453513145446777\n",
            "Epoch [579/750], Loss: 4.257397651672363\n",
            "Epoch [580/750], Loss: 4.2495574951171875\n",
            "Epoch [581/750], Loss: 4.263258934020996\n",
            "Epoch [582/750], Loss: 4.221671104431152\n",
            "Epoch [583/750], Loss: 4.092710018157959\n",
            "Epoch [584/750], Loss: 4.534207820892334\n",
            "Epoch [585/750], Loss: 4.439418315887451\n",
            "Epoch [586/750], Loss: 4.270345687866211\n",
            "Epoch [587/750], Loss: 4.171946048736572\n",
            "Epoch [588/750], Loss: 4.2896037101745605\n",
            "Epoch [589/750], Loss: 4.300423622131348\n",
            "Epoch [590/750], Loss: 4.214120864868164\n",
            "Epoch [591/750], Loss: 4.248444080352783\n",
            "Epoch [592/750], Loss: 4.255373001098633\n",
            "Epoch [593/750], Loss: 4.506107330322266\n",
            "Epoch [594/750], Loss: 4.261835098266602\n",
            "Epoch [595/750], Loss: 4.285191535949707\n",
            "Epoch [596/750], Loss: 4.248592376708984\n",
            "Epoch [597/750], Loss: 4.3075103759765625\n",
            "Epoch [598/750], Loss: 4.575923442840576\n",
            "Epoch [599/750], Loss: 4.386800765991211\n",
            "Epoch [600/750], Loss: 4.292864799499512\n",
            "Epoch [601/750], Loss: 4.3757429122924805\n",
            "Epoch [602/750], Loss: 4.2131757736206055\n",
            "Epoch [603/750], Loss: 4.610555648803711\n",
            "Epoch [604/750], Loss: 4.382559776306152\n",
            "Epoch [605/750], Loss: 4.526492118835449\n",
            "Epoch [606/750], Loss: 4.390682220458984\n",
            "Epoch [607/750], Loss: 4.4035325050354\n",
            "Epoch [608/750], Loss: 4.3119282722473145\n",
            "Epoch [609/750], Loss: 4.346498012542725\n",
            "Epoch [610/750], Loss: 4.350327014923096\n",
            "Epoch [611/750], Loss: 4.226719856262207\n",
            "Epoch [612/750], Loss: 4.45554256439209\n",
            "Epoch [613/750], Loss: 4.354128837585449\n",
            "Epoch [614/750], Loss: 4.321170806884766\n",
            "Epoch [615/750], Loss: 4.291415214538574\n",
            "Epoch [616/750], Loss: 4.351329803466797\n",
            "Epoch [617/750], Loss: 4.387805461883545\n",
            "Epoch [618/750], Loss: 4.33590030670166\n",
            "Epoch [619/750], Loss: 4.184425354003906\n",
            "Epoch [620/750], Loss: 4.469444274902344\n",
            "Epoch [621/750], Loss: 4.1926727294921875\n",
            "Epoch [622/750], Loss: 4.136359691619873\n",
            "Epoch [623/750], Loss: 4.439720630645752\n",
            "Epoch [624/750], Loss: 4.311525344848633\n",
            "Epoch [625/750], Loss: 4.65831995010376\n",
            "Epoch [626/750], Loss: 4.3474225997924805\n",
            "Epoch [627/750], Loss: 4.406197547912598\n",
            "Epoch [628/750], Loss: 4.343931198120117\n",
            "Epoch [629/750], Loss: 4.338818073272705\n",
            "Epoch [630/750], Loss: 4.244722366333008\n",
            "Epoch [631/750], Loss: 4.268132209777832\n",
            "Epoch [632/750], Loss: 4.316547393798828\n",
            "Epoch [633/750], Loss: 4.18534517288208\n",
            "Epoch [634/750], Loss: 4.358521461486816\n",
            "Epoch [635/750], Loss: 4.412472724914551\n",
            "Epoch [636/750], Loss: 4.181140899658203\n",
            "Epoch [637/750], Loss: 4.425494194030762\n",
            "Epoch [638/750], Loss: 4.230175971984863\n",
            "Epoch [639/750], Loss: 4.188233375549316\n",
            "Epoch [640/750], Loss: 4.3588104248046875\n",
            "Epoch [641/750], Loss: 4.282830715179443\n",
            "Epoch [642/750], Loss: 4.410968780517578\n",
            "Epoch [643/750], Loss: 4.375049591064453\n",
            "Epoch [644/750], Loss: 4.525472640991211\n",
            "Epoch [645/750], Loss: 4.45623254776001\n",
            "Epoch [646/750], Loss: 4.134519577026367\n",
            "Epoch [647/750], Loss: 4.509393215179443\n",
            "Epoch [648/750], Loss: 4.209952354431152\n",
            "Epoch [649/750], Loss: 4.319332599639893\n",
            "Epoch [650/750], Loss: 4.417905330657959\n",
            "Epoch [651/750], Loss: 4.250404357910156\n",
            "Epoch [652/750], Loss: 4.21787691116333\n",
            "Epoch [653/750], Loss: 4.16311502456665\n",
            "Epoch [654/750], Loss: 4.312415599822998\n",
            "Epoch [655/750], Loss: 4.398989200592041\n",
            "Epoch [656/750], Loss: 4.413826942443848\n",
            "Epoch [657/750], Loss: 4.28237247467041\n",
            "Epoch [658/750], Loss: 4.388287544250488\n",
            "Epoch [659/750], Loss: 4.300851821899414\n",
            "Epoch [660/750], Loss: 4.348025321960449\n",
            "Epoch [661/750], Loss: 4.39871883392334\n",
            "Epoch [662/750], Loss: 4.452816486358643\n",
            "Epoch [663/750], Loss: 4.262396335601807\n",
            "Epoch [664/750], Loss: 4.366063117980957\n",
            "Epoch [665/750], Loss: 4.444757461547852\n",
            "Epoch [666/750], Loss: 4.407334804534912\n",
            "Epoch [667/750], Loss: 4.2011213302612305\n",
            "Epoch [668/750], Loss: 4.51472806930542\n",
            "Epoch [669/750], Loss: 4.314635276794434\n",
            "Epoch [670/750], Loss: 4.354482650756836\n",
            "Epoch [671/750], Loss: 4.376836776733398\n",
            "Epoch [672/750], Loss: 4.30717658996582\n",
            "Epoch [673/750], Loss: 4.473263740539551\n",
            "Epoch [674/750], Loss: 4.208526611328125\n",
            "Epoch [675/750], Loss: 4.403174877166748\n",
            "Epoch [676/750], Loss: 4.31852912902832\n",
            "Epoch [677/750], Loss: 4.24283504486084\n",
            "Epoch [678/750], Loss: 4.353083610534668\n",
            "Epoch [679/750], Loss: 4.295500755310059\n",
            "Epoch [680/750], Loss: 4.132966041564941\n",
            "Epoch [681/750], Loss: 4.256982803344727\n",
            "Epoch [682/750], Loss: 4.200425148010254\n",
            "Epoch [683/750], Loss: 4.4494123458862305\n",
            "Epoch [684/750], Loss: 4.351009368896484\n",
            "Epoch [685/750], Loss: 4.264506816864014\n",
            "Epoch [686/750], Loss: 4.245274543762207\n",
            "Epoch [687/750], Loss: 4.332454204559326\n",
            "Epoch [688/750], Loss: 4.339897632598877\n",
            "Epoch [689/750], Loss: 4.280627727508545\n",
            "Epoch [690/750], Loss: 4.27672815322876\n",
            "Epoch [691/750], Loss: 4.318389892578125\n",
            "Epoch [692/750], Loss: 4.286593437194824\n",
            "Epoch [693/750], Loss: 4.4215569496154785\n",
            "Epoch [694/750], Loss: 4.156671047210693\n",
            "Epoch [695/750], Loss: 4.305113792419434\n",
            "Epoch [696/750], Loss: 4.30718469619751\n",
            "Epoch [697/750], Loss: 4.32033634185791\n",
            "Epoch [698/750], Loss: 4.302395820617676\n",
            "Epoch [699/750], Loss: 4.393764019012451\n",
            "Epoch [700/750], Loss: 4.181556701660156\n",
            "Epoch [701/750], Loss: 4.2663187980651855\n",
            "Epoch [702/750], Loss: 4.387094974517822\n",
            "Epoch [703/750], Loss: 4.291965961456299\n",
            "Epoch [704/750], Loss: 4.520481109619141\n",
            "Epoch [705/750], Loss: 4.221510410308838\n",
            "Epoch [706/750], Loss: 4.1770172119140625\n",
            "Epoch [707/750], Loss: 4.201028347015381\n",
            "Epoch [708/750], Loss: 4.4129438400268555\n",
            "Epoch [709/750], Loss: 4.398201942443848\n",
            "Epoch [710/750], Loss: 4.191887855529785\n",
            "Epoch [711/750], Loss: 4.331168174743652\n",
            "Epoch [712/750], Loss: 4.355278968811035\n",
            "Epoch [713/750], Loss: 4.4207940101623535\n",
            "Epoch [714/750], Loss: 4.4486260414123535\n",
            "Epoch [715/750], Loss: 4.269277572631836\n",
            "Epoch [716/750], Loss: 4.49239444732666\n",
            "Epoch [717/750], Loss: 4.328827857971191\n",
            "Epoch [718/750], Loss: 4.455776691436768\n",
            "Epoch [719/750], Loss: 4.398628234863281\n",
            "Epoch [720/750], Loss: 4.193417549133301\n",
            "Epoch [721/750], Loss: 4.538332462310791\n",
            "Epoch [722/750], Loss: 4.090163707733154\n",
            "Epoch [723/750], Loss: 4.305706977844238\n",
            "Epoch [724/750], Loss: 4.370571613311768\n",
            "Epoch [725/750], Loss: 4.456920146942139\n",
            "Epoch [726/750], Loss: 4.6716108322143555\n",
            "Epoch [727/750], Loss: 4.2178144454956055\n",
            "Epoch [728/750], Loss: 4.27733039855957\n",
            "Epoch [729/750], Loss: 4.356875896453857\n",
            "Epoch [730/750], Loss: 4.247038841247559\n",
            "Epoch [731/750], Loss: 4.428738117218018\n",
            "Epoch [732/750], Loss: 4.341863632202148\n",
            "Epoch [733/750], Loss: 4.252346992492676\n",
            "Epoch [734/750], Loss: 4.42206335067749\n",
            "Epoch [735/750], Loss: 4.421929359436035\n",
            "Epoch [736/750], Loss: 4.492363929748535\n",
            "Epoch [737/750], Loss: 4.478115558624268\n",
            "Epoch [738/750], Loss: 4.244833946228027\n",
            "Epoch [739/750], Loss: 4.407114028930664\n",
            "Epoch [740/750], Loss: 4.443443298339844\n",
            "Epoch [741/750], Loss: 4.299002647399902\n",
            "Epoch [742/750], Loss: 4.576389789581299\n",
            "Epoch [743/750], Loss: 4.3194260597229\n",
            "Epoch [744/750], Loss: 4.319935321807861\n",
            "Epoch [745/750], Loss: 4.177166938781738\n",
            "Epoch [746/750], Loss: 4.49899959564209\n",
            "Epoch [747/750], Loss: 4.387906074523926\n",
            "Epoch [748/750], Loss: 4.352003574371338\n",
            "Epoch [749/750], Loss: 4.578784465789795\n",
            "Epoch [750/750], Loss: 4.447169303894043\n"
          ]
        }
      ]
    },
    {
      "cell_type": "code",
      "source": [
        "# Save the trained model if needed\n",
        "torch.save(model.state_dict(), 'three_linear_layer_model.pth')"
      ],
      "metadata": {
        "id": "56biU-9jeG3w"
      },
      "execution_count": 133,
      "outputs": []
    },
    {
      "cell_type": "markdown",
      "source": [
        "Test results for age range 0-70"
      ],
      "metadata": {
        "id": "zE9vkWZqaPTE"
      }
    },
    {
      "cell_type": "code",
      "source": [
        "# Set the model to evaluation mode\n",
        "model.eval()\n",
        "\n",
        "# Assuming test_image_tensors is your test data and test_labels is the corresponding ground truth\n",
        "# Convert NumPy arrays to PyTorch tensors\n",
        "test_labels = torch.tensor(test_label, dtype=torch.long)\n",
        "test_image_tensors = torch.tensor(test_image_tensors, dtype=torch.float)\n",
        "test_labels = test_labels.to(device)\n",
        "test_image_tensors = test_image_tensors.to(device)\n",
        "# Make predictions\n",
        "with torch.no_grad():\n",
        "    outputs = model(test_image_tensors)\n",
        "\n",
        "# Get predicted labels\n",
        "_, predicted_labels = torch.max(outputs, 1)\n",
        "\n",
        "# Compute accuracy within a tolerance of 5\n",
        "accuracy = torch.sum(torch.abs(predicted_labels - test_labels) <= 5).item() / len(test_labels)\n",
        "print(f'Accuracy: {accuracy * 100:.2f}%')\n",
        "\n",
        "# Compute precision (optional, if you have multiclass classification)\n",
        "precision = precision_score(test_labels.cpu(), predicted_labels.cpu(), average='weighted')\n",
        "print(f'Precision: {precision * 100:.2f}%')\n"
      ],
      "metadata": {
        "colab": {
          "base_uri": "https://localhost:8080/"
        },
        "id": "3VV_X4FBRKag",
        "outputId": "ac5bcdf2-7361-4695-8da2-3de969694ac5"
      },
      "execution_count": 134,
      "outputs": [
        {
          "output_type": "stream",
          "name": "stdout",
          "text": [
            "Accuracy: 15.71%\n",
            "Precision: 0.02%\n"
          ]
        },
        {
          "output_type": "stream",
          "name": "stderr",
          "text": [
            "<ipython-input-134-11fc94b2e18f>:7: UserWarning: To copy construct from a tensor, it is recommended to use sourceTensor.clone().detach() or sourceTensor.clone().detach().requires_grad_(True), rather than torch.tensor(sourceTensor).\n",
            "  test_image_tensors = torch.tensor(test_image_tensors, dtype=torch.float)\n",
            "/usr/local/lib/python3.10/dist-packages/sklearn/metrics/_classification.py:1344: UndefinedMetricWarning: Precision is ill-defined and being set to 0.0 in labels with no predicted samples. Use `zero_division` parameter to control this behavior.\n",
            "  _warn_prf(average, modifier, msg_start, len(result))\n"
          ]
        }
      ]
    },
    {
      "cell_type": "markdown",
      "source": [
        "Test Results for age range 0-35"
      ],
      "metadata": {
        "id": "u9TcRF3VaSof"
      }
    },
    {
      "cell_type": "code",
      "source": [
        "# Assuming test_image_tensors is your test data and test_labels is the corresponding ground truth\n",
        "# Convert NumPy arrays to PyTorch tensors\n",
        "u35_labels = torch.tensor(u35_label, dtype=torch.long)\n",
        "u35_image_tensors = torch.tensor(u35_image_tensors, dtype=torch.float)\n",
        "u35_labels = u35_labels.to(device)\n",
        "u35_image_tensors = u35_image_tensors.to(device)\n",
        "# Make predictions\n",
        "with torch.no_grad():\n",
        "    u35_outputs = model(u35_image_tensors)\n",
        "\n",
        "# Get predicted labels\n",
        "_, u_35_predicted_labels = torch.max(u35_outputs, 1)\n",
        "\n",
        "# Compute accuracy within a tolerance of 5\n",
        "accuracy = torch.sum(torch.abs(u_35_predicted_labels - u35_labels) <= 5).item() / len(u35_labels)\n",
        "print(f'Accuracy: {accuracy * 100:.2f}%')\n",
        "# Compute precision (optional, if you have multiclass classification)\n",
        "precision = precision_score(u35_labels.cpu(), u_35_predicted_labels.cpu(), average='weighted')\n",
        "print(f'Precision: {precision * 100:.2f}%')"
      ],
      "metadata": {
        "colab": {
          "base_uri": "https://localhost:8080/"
        },
        "id": "yOQfSXb9aOsE",
        "outputId": "1e2ba773-e6a6-493c-c98b-cd8c5287898d"
      },
      "execution_count": 135,
      "outputs": [
        {
          "output_type": "stream",
          "name": "stdout",
          "text": [
            "Accuracy: 32.35%\n",
            "Precision: 0.09%\n"
          ]
        },
        {
          "output_type": "stream",
          "name": "stderr",
          "text": [
            "<ipython-input-135-38f96c500a40>:4: UserWarning: To copy construct from a tensor, it is recommended to use sourceTensor.clone().detach() or sourceTensor.clone().detach().requires_grad_(True), rather than torch.tensor(sourceTensor).\n",
            "  u35_image_tensors = torch.tensor(u35_image_tensors, dtype=torch.float)\n",
            "/usr/local/lib/python3.10/dist-packages/sklearn/metrics/_classification.py:1344: UndefinedMetricWarning: Precision is ill-defined and being set to 0.0 in labels with no predicted samples. Use `zero_division` parameter to control this behavior.\n",
            "  _warn_prf(average, modifier, msg_start, len(result))\n"
          ]
        }
      ]
    },
    {
      "cell_type": "markdown",
      "source": [
        "Test results for age range 35-70"
      ],
      "metadata": {
        "id": "ZPHU35hWaVcM"
      }
    },
    {
      "cell_type": "code",
      "source": [
        "# Assuming test_image_tensors is your test data and test_labels is the corresponding ground truth\n",
        "# Convert NumPy arrays to PyTorch tensors\n",
        "above_35_labels = torch.tensor(above_35_label, dtype=torch.long)\n",
        "above_35_image_tensors = torch.tensor(above_35_image_tensors, dtype=torch.float)\n",
        "above_35_labels = above_35_labels.to(device)\n",
        "above_35_image_tensors = above_35_image_tensors.to(device)\n",
        "# Make predictions\n",
        "with torch.no_grad():\n",
        "    above_35_outputs = model(above_35_image_tensors)\n",
        "\n",
        "# Get predicted labels\n",
        "_, above_35_predicted_labels = torch.max(above_35_outputs, 1)\n",
        "# Compute accuracy within a tolerance of 5\n",
        "accuracy = torch.sum(torch.abs(above_35_predicted_labels - above_35_labels) <= 5).item() / len(above_35_labels)\n",
        "print(f'Accuracy: {accuracy * 100:.2f}%')\n",
        "# Compute precision (optional, if you have multiclass classification)\n",
        "precision = precision_score(above_35_labels.cpu(), above_35_predicted_labels.cpu(), average='weighted')\n",
        "print(f'Precision: {precision * 100:.2f}%')"
      ],
      "metadata": {
        "colab": {
          "base_uri": "https://localhost:8080/"
        },
        "id": "IVueTd3rbUiJ",
        "outputId": "7da87b23-13bd-4605-e837-25eaf90fe0f0"
      },
      "execution_count": 137,
      "outputs": [
        {
          "output_type": "stream",
          "name": "stdout",
          "text": [
            "Accuracy: 0.00%\n",
            "Precision: 0.00%\n"
          ]
        },
        {
          "output_type": "stream",
          "name": "stderr",
          "text": [
            "<ipython-input-137-aef310533985>:4: UserWarning: To copy construct from a tensor, it is recommended to use sourceTensor.clone().detach() or sourceTensor.clone().detach().requires_grad_(True), rather than torch.tensor(sourceTensor).\n",
            "  above_35_image_tensors = torch.tensor(above_35_image_tensors, dtype=torch.float)\n",
            "/usr/local/lib/python3.10/dist-packages/sklearn/metrics/_classification.py:1344: UndefinedMetricWarning: Precision is ill-defined and being set to 0.0 in labels with no predicted samples. Use `zero_division` parameter to control this behavior.\n",
            "  _warn_prf(average, modifier, msg_start, len(result))\n"
          ]
        }
      ]
    },
    {
      "cell_type": "code",
      "source": [],
      "metadata": {
        "id": "-HDjHK14vakW"
      },
      "execution_count": null,
      "outputs": []
    }
  ]
}